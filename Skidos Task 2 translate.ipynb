{
 "cells": [
  {
   "cell_type": "code",
   "execution_count": 1,
   "id": "c78cff6f",
   "metadata": {},
   "outputs": [
    {
     "name": "stdout",
     "output_type": "stream",
     "text": [
      "object\n"
     ]
    }
   ],
   "source": [
    "import pandas as pd\n",
    "file= pd.read_csv('input_data_translation.csv')\n",
    "print(file.EnglishText.dtype)"
   ]
  },
  {
   "cell_type": "code",
   "execution_count": 2,
   "id": "5af00f1e",
   "metadata": {},
   "outputs": [],
   "source": [
    "import googletrans\n",
    "# print(googletrans.LANGUAGES)\n",
    "from googletrans import Translator\n",
    "translator= Translator()"
   ]
  },
  {
   "cell_type": "code",
   "execution_count": 3,
   "id": "cd652e29",
   "metadata": {},
   "outputs": [
    {
     "data": {
      "text/plain": [
       "0                           Biggest\n",
       "1           Compare 3 digit numbers\n",
       "2                 Compare fractions\n",
       "3         Counting numbers up to 10\n",
       "4                          Division\n",
       "5                       Even or odd\n",
       "6     Identify 2-dimensional shapes\n",
       "7                  Mixed Operations\n",
       "8                Move The Character\n",
       "9                    Multiplication\n",
       "10      Rounding to nearest hundred\n",
       "11           Subtract with decimals\n",
       "12                         Symmetry\n",
       "13                    True or False\n",
       "14              What comes between?\n",
       "15           Write numbers up to 10\n",
       "Name: EnglishText, dtype: string"
      ]
     },
     "execution_count": 3,
     "metadata": {},
     "output_type": "execute_result"
    }
   ],
   "source": [
    "file['EnglishText']=file.EnglishText.astype(\"string\")\n",
    "# file.EnglishText.dtype\n",
    "file.EnglishText"
   ]
  },
  {
   "cell_type": "code",
   "execution_count": 4,
   "id": "8d8ad34d",
   "metadata": {},
   "outputs": [],
   "source": [
    "lst_es=[]\n",
    "lst_ru=[]\n",
    "lst_ms=[]\n",
    "\n",
    "for i in file.EnglishText:\n",
    "    spanish=translator.translate(i, dest='es')\n",
    "    russian=translator.translate(i, dest='ru')\n",
    "    malay=translator.translate(i, dest='ms')\n",
    "    lst_es.append(spanish.text)\n",
    "    lst_ru.append(russian.text)\n",
    "    lst_ms.append(malay.text)"
   ]
  },
  {
   "cell_type": "code",
   "execution_count": 5,
   "id": "cae3b0ff",
   "metadata": {},
   "outputs": [
    {
     "name": "stdout",
     "output_type": "stream",
     "text": [
      "                      EnglishText                            Malaysian  \\\n",
      "0                         Biggest                    Yang paling besar   \n",
      "1         Compare 3 digit numbers            Bandingkan nombor 3 digit   \n",
      "2               Compare fractions                   Bandingkan pecahan   \n",
      "3       Counting numbers up to 10           Mengira nombor sehingga 10   \n",
      "4                        Division                             Bahagian   \n",
      "5                     Even or odd                    Genap atau ganjil   \n",
      "6   Identify 2-dimensional shapes         Kenal pasti bentuk 2 dimensi   \n",
      "7                Mixed Operations                    Operasi bercampur   \n",
      "8              Move The Character                   Gerakkan watak itu   \n",
      "9                  Multiplication                           Pendaraban   \n",
      "10    Rounding to nearest hundred  Pembulatan ke seratus yang terdekat   \n",
      "11         Subtract with decimals              Tolak dengan perpuluhan   \n",
      "12                       Symmetry                             Simetri.   \n",
      "13                  True or False                     Betul atau salah   \n",
      "14            What comes between?          Apa yang berlaku di antara?   \n",
      "15         Write numbers up to 10             Tulis nombor sehingga 10   \n",
      "\n",
      "                          Russian                              Spanish  \n",
      "0                   Самый большой                           Más grande  \n",
      "1                Сравнить 3 цифры        Comparar números de 3 dígitos  \n",
      "2                Сравнить фракции                  Comparar fracciones  \n",
      "3           Подсчет номеров до 10            Contando números hasta 10  \n",
      "4                      Разделение                             División  \n",
      "5             Четным или нечетным                          Par o impar  \n",
      "6       Определить 2-мерные формы  Identificar formas 2-dimensionales.  \n",
      "7              Смешанные операции                   Operaciones mixtas  \n",
      "8            Переместить характер                   Mover el personaje  \n",
      "9                       Умножение                       Multiplicación  \n",
      "10  Округление до ближайших сотен       Redondeando a cien más cercano  \n",
      "11           Вычесть с десятиками                 Restar con decimales  \n",
      "12                      Симметрия                             Simetría  \n",
      "13                Правда или ложь                    Verdadero o falso  \n",
      "14          Что происходит между?                    ¿Qué viene entre?  \n",
      "15          Написать номера до 10             Escribe números hasta 10  \n"
     ]
    }
   ],
   "source": [
    "file['Malaysian']=lst_ms\n",
    "file['Russian']= lst_ru\n",
    "file['Spanish']= lst_es\n",
    "\n",
    "print(file)"
   ]
  },
  {
   "cell_type": "code",
   "execution_count": 6,
   "id": "7e68b8e5",
   "metadata": {},
   "outputs": [],
   "source": [
    "file.to_csv('Translated_data.csv', index=False)"
   ]
  },
  {
   "cell_type": "code",
   "execution_count": null,
   "id": "1fa74f69",
   "metadata": {},
   "outputs": [],
   "source": []
  }
 ],
 "metadata": {
  "kernelspec": {
   "display_name": "Python 3",
   "language": "python",
   "name": "python3"
  },
  "language_info": {
   "codemirror_mode": {
    "name": "ipython",
    "version": 3
   },
   "file_extension": ".py",
   "mimetype": "text/x-python",
   "name": "python",
   "nbconvert_exporter": "python",
   "pygments_lexer": "ipython3",
   "version": "3.9.4"
  }
 },
 "nbformat": 4,
 "nbformat_minor": 5
}
